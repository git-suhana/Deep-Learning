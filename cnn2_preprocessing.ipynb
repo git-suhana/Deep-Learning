{
 "cells": [
  {
   "cell_type": "code",
   "execution_count": 1,
   "id": "4a91bdcc-d581-4e35-8648-94c384d920ff",
   "metadata": {},
   "outputs": [
    {
     "name": "stdout",
     "output_type": "stream",
     "text": [
      "{'without_mask': 0, 'with_mask': 1}\n",
      "['without_mask', 'with_mask']\n",
      "[0, 1]\n"
     ]
    }
   ],
   "source": [
    "import cv2\n",
    "import os\n",
    "\n",
    "data_path = 'data'\n",
    "\n",
    "categories = os.listdir(data_path)               # getting folders\n",
    "\n",
    "labels = [i for i in range(len(categories))]\n",
    "\n",
    "label_dict = dict(zip(categories,labels)) \n",
    "\n",
    "print(label_dict)\n",
    "print(categories)\n",
    "print(labels)"
   ]
  },
  {
   "cell_type": "code",
   "execution_count": 2,
   "id": "c767cf46-7ad9-4cf9-9fda-ada1ab6c691a",
   "metadata": {},
   "outputs": [],
   "source": [
    "img_size=100\n",
    "data=[]\n",
    "target=[]\n",
    "\n",
    "for category in categories:\n",
    "    folder_path=os.path.join(data_path,category)\n",
    "    img_names=os.listdir(folder_path)\n",
    "    \n",
    "    for img_name in img_names:\n",
    "        img_path=os.path.join(folder_path,img_name)\n",
    "        img=cv2.imread(img_path)\n",
    "        \n",
    "        try:\n",
    "            gray=cv2.cvtColor(img,cv2.COLOR_BGR2GRAY)\n",
    "            # converting the image into gray scale\n",
    "            \n",
    "            resized=cv2.resize(gray,(img_size,img_size))\n",
    "            # resizing the gray scale into 100x100 , since we need a fixed common size for all the images in the dataset\n",
    "            \n",
    "            data.append(resized)\n",
    "            target.append(label_dict[category])\n",
    "            # appending the image and the label(categorized) into the list (dataset)\n",
    "            \n",
    "        except Exception as e:\n",
    "            print('Exception: ',e)\n",
    "            # if any excption raised, then the exception will be printed here and pass to the next image"
   ]
  },
  {
   "cell_type": "code",
   "execution_count": 3,
   "id": "9979d009-1fb0-41ab-b64d-ddb520e8a306",
   "metadata": {},
   "outputs": [
    {
     "name": "stdout",
     "output_type": "stream",
     "text": [
      "(7553, 100, 100, 1)\n",
      "[[1. 0.]\n",
      " [1. 0.]\n",
      " [1. 0.]\n",
      " ...\n",
      " [0. 1.]\n",
      " [0. 1.]\n",
      " [0. 1.]]\n"
     ]
    }
   ],
   "source": [
    "import numpy as np\n",
    "\n",
    "data=np.array(data)/255.0         # normalizing\n",
    "\n",
    "\n",
    "data=np.reshape(data,(data.shape[0],img_size,img_size,1))\n",
    "print(data.shape)\n",
    "\n",
    "target=np.array(target)\n",
    "\n",
    "from tensorflow.keras.utils import to_categorical\n",
    "# from keras.utils import np_utils\n",
    "\n",
    "new_target=to_categorical(target)\n",
    "print(new_target)"
   ]
  },
  {
   "cell_type": "code",
   "execution_count": 4,
   "id": "d80d5ab3-4bca-4b4d-895e-c24e19efa559",
   "metadata": {},
   "outputs": [
    {
     "data": {
      "text/plain": [
       "array([[1., 0.],\n",
       "       [1., 0.],\n",
       "       [1., 0.],\n",
       "       ...,\n",
       "       [0., 1.],\n",
       "       [0., 1.],\n",
       "       [0., 1.]])"
      ]
     },
     "execution_count": 4,
     "metadata": {},
     "output_type": "execute_result"
    }
   ],
   "source": [
    "new_target"
   ]
  },
  {
   "cell_type": "code",
   "execution_count": 5,
   "id": "faec89e0-50b6-424a-86ae-f0f932765312",
   "metadata": {},
   "outputs": [],
   "source": [
    "np.save('data',data)\n",
    "np.save('target',new_target)"
   ]
  },
  {
   "cell_type": "code",
   "execution_count": null,
   "id": "66b3e2e0-3c08-4c33-93eb-f720eb4ab1b1",
   "metadata": {},
   "outputs": [],
   "source": []
  }
 ],
 "metadata": {
  "kernelspec": {
   "display_name": "Python 3 (ipykernel)",
   "language": "python",
   "name": "python3"
  },
  "language_info": {
   "codemirror_mode": {
    "name": "ipython",
    "version": 3
   },
   "file_extension": ".py",
   "mimetype": "text/x-python",
   "name": "python",
   "nbconvert_exporter": "python",
   "pygments_lexer": "ipython3",
   "version": "3.12.7"
  }
 },
 "nbformat": 4,
 "nbformat_minor": 5
}
